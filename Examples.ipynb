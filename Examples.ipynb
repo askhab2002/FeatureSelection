{
  "cells": [
    {
      "cell_type": "markdown",
      "source": [
        "# **Выбор значимых признаков. Теоретическая часть.**\n",
        "\n",
        "Рассмотрим результат из статье [1] Jan Mielniczuk, Pawel Teisseyre.\n",
        "    \n",
        "Будем рассматривать  $p$-тое количество признаков $X_{1}, \\ldots, X_{p}$ и целевая классовая величина(отклик) - $Y$. Пусть $X_{S}$ - подмножество $X_{1}, \\ldots, X_{p}$,  $S \\subset\\{1, \\ldots, p\\}$. Определим $p\\left(x_{j}\\right):=P\\left(X_{j}=x_{j}\\right), x_{j} \\in \\mathcal{X}_{j}$ , где $\\mathcal{X}_{j}$ - область значений $X_{j}$ и $\\left|\\mathcal{X}_{j}\\right|$ - мощность множества(конечно). Область значений классовой величины - $\\mathcal{Y}$(конечно). Совместная \\\\\n",
        "вероятность - $p\\left(x_{i}, x_{j}\\right)=P\\left(X_{i}=x_{i}, X_{j}=\\right.$ $\\left.x_{j}\\right)$.  $\\hat{p}\\left(x_{j}\\right)$ - обозначение оценки $p\\left(x_{j}\\right)$.\n",
        "  \n",
        "  \n",
        "\n",
        "Задача - зная значения признаков $ X_{1}, \\ldots, X_{p}$, предположить значение $Y$. Например, задача можем сводиться к вопросу о $ P(Y=y| X_1 = x_1, \\cdots, X_p = x_p)$.\n",
        "\n",
        "\n",
        "По известному набору наблюдений необходимо найти зависимость отклика от значений признаков.\n",
        "\n",
        "Однако, наш отклик Y может не зависить от существенной части признаков, либо же иметь пренебрежительно слабую зависимость. Рассмотрение всех признаков может быть существенно затруднено, например, в силу высоких вычисленных требований в виде экспоненцильного роста сложности.\n",
        "\n",
        "Цель - выбрать наиболее подходящие признаки.\n",
        "\n",
        "Однако, перебор по всем признаков является крайне затратным, так как сложность растет экспоненциально от числа признаков.\n",
        "\n",
        "Следовательно, можно перейти к последовательному выбору признаков:\n",
        "$$ \\arg \\max _{j \\in S^{c}}\\left[I\\left(X_{S \\cup\\{j\\}}, Y\\right)-I\\left(X_{S}, Y\\right)\\right]=\\arg \\max _{j \\in S^{c}} I\\left(X_{j}, Y \\mid X_{S}\\right) $$\n",
        "\n",
        "Разложим условную совместную информацию через информации многостороннего взаимодействия:\n",
        "\\begin{align*}\n",
        "& I\\left(X_{S \\cup\\{j\\}}, Y\\right)-I\\left(X_{S}, Y\\right) \\\\\n",
        "&= I\\left(X_{j}, Y \\mid X_{S}\\right)=\\sum_{k=0}^{|S|} \\sum_{\\left\\{i_{1}, \\ldots, i_{k}\\right\\} \\subseteq S} I I\\left(X_{i_{1}}, \\ldots, X_{i_{k}}, X_{j}, Y\\right) \\\\\n",
        "& \\quad= I\\left(X_{j}, Y\\right)+\\sum_{i \\in S} I I\\left(X_{i}, X_{j}, Y\\right)+\\sum_{i_{1}, i_{2} \\in S: i_{1}<i_{2}} I I\\left(X_{i_{1}}, X_{i_{2}}, X_{j}, Y\\right) \\\\\n",
        "& + \\ldots+I I\\left(X_{i_{1}}, \\ldots, X_{i_{|S|}}, X_{j}, Y\\right) \\tag{1}\n",
        "\\end{align*}\n",
        "\n",
        "Для упрощения вычислений можно взять второй порядок приближения условной совместной информации:\n",
        "\n",
        "\\begin{align*}\n",
        "J\\left(X_{j}, S\\right) & =I\\left(X_{j}, Y\\right)+\\sum_{i \\in S} I I\\left(X_{i}, X_{j}, Y\\right) \\\\\n",
        "& =I\\left(X_{j}, Y\\right)+\\sum_{i \\in S}\\left[I\\left(Y, X_{j} \\mid X_{i}\\right)-I\\left(Y, X_{j}\\right)\\right] \\\\\n",
        "& =I\\left(X_{j}, Y\\right)(1-|S|)+\\sum_{i \\in S} I\\left(Y, X_{j} \\mid X_{i}\\right) \\tag{2}\n",
        "\\end{align*}\n",
        "\n",
        "\n",
        "\n",
        "На практике приближение выше второго использовать затруднительно. Для $r$-того порядка приближения необходимо оценивать  $(r + 1)$-мерные вероятности. Пусть  $n$ - число наблюдений, для любого $i$ - $|\\mathcal{X}_i| = b$, следовательно, всего $b^{r + 1}$ - возможных комбинаций. $n/b^{r + 1}$ - в среднем наблюдений на комбинацию.\n",
        "    \n",
        "    \n",
        "Например, если $n = 1000$, $b = 5$, $r = 2$, то $n/b^{r + 1} = 8$. Если  $r = 3$, то $n/b^{r + 1} = 1.6$. То есть не удастся приближенно оценить вероятности.\n",
        "\n",
        "Авторы строят последовательный выбор признаков. Необходима точка остановки, на которой выбор предполагаемых значимых признаков будет окончен.\n",
        "\n",
        "Предположим выбрали S множество индексов признаков. Тогда выбор признаков останавливается при $I\\left(Y, X_{j} \\mid X_{S}\\right)=0$ для любого $j \\in S^{c}$. Пользуемся приближением второго порядка.\n",
        "\n",
        "Пусть $S_{k}$ - множество индексов, выбранных на $k$-том шаге, где $S_{0}=\\emptyset$. На $k$-том шаге определим $S_{k+1}=S_{k} \\cup\\left\\{j_{k}\\right\\}$ такое, что $j_{k}=$ $\\arg \\max _{j \\in S_{k}^{c}} J\\left(X_{j}, S_{k}\\right)$. Таким образом момент остановки в приближении:\n",
        "\n",
        "$t:=\\arg \\min _{1 \\leq k \\leq p} (J\\left(X_{j}, S_{k}\\right)=0), \\forall j \\in S_{k}^{c}$.\n",
        "\n",
        "\n",
        "Так как мы не знаем распределений, нужны оценки.\n",
        "\n",
        "\\begin{align*}\n",
        "\\hat{J}\\left(X_{j}, S_{k}\\right) & =\\hat{I}\\left(X_{j}, Y\\right)+\\sum_{i \\in S_{k}} \\hat{I}\\left(X_{i}, X_{j}, Y\\right) \\\\\n",
        "& =\\hat{I}\\left(X_{j}, Y\\right)+\\sum_{i \\in S_{k}}\\left[\\hat{I}\\left(Y, X_{j} \\mid X_{i}\\right)-\\hat{I}\\left(Y, X_{j}\\right)\\right] \\\\\n",
        "& =\\hat{I}\\left(X_{j}, Y\\right)\\left(1-\\left|S_{k}\\right|\\right)+\\sum_{i \\in S_{k}} \\hat{I}\\left(Y, X_{j} \\mid X_{i}\\right) \\tag{3}\n",
        "\\end{align*}\n",
        "\n",
        "\n",
        "Заметим, что при $J\\left(X_{j}, S_{k}\\right)=0$, может выполняться $\\hat{J}\\left(X_{j}, S_{k}\\right)>0$.\n",
        "    \n",
        "Цель - построить приближение распределения $2 n \\hat{J}\\left(X_{j}, S_{k}\\right)$ при гипотезе, что   $X_{j} \\perp Y \\mid X_{S_{k}}$; и ввести правило остановки $\\hat{t}$, основанное на кватилях распределения.\n",
        "\n",
        "\n",
        "\n",
        "\n",
        "\n",
        "\n",
        "\n",
        "  "
      ],
      "metadata": {
        "id": "3tFuuFFhoEoQ"
      }
    },
    {
      "cell_type": "markdown",
      "source": [
        "# **Теорема.**\n",
        "\n",
        "Пусть $X, Y$ и $Z$ - случайные величины, принимающие значения в  $|\\mathcal{X}|$, $|\\mathcal{Y}|$ и $|\\mathcal{Z}|$, соответственно. Предположим, что $Y$ и $Z$ независимы при условии $X$. Тогда\n",
        "\n",
        "$2 n \\hat{I}(Y, Z \\mid X) \\approx \\sum_{i=1}^{|\\mathcal{X}|} W_{i}$  , где $W_{i}$ имеет $\\chi^{2}$ асимптотическое распределение со $(|\\mathcal{Y}|-1)(|\\mathcal{Z}|-1)$ степенями свободы и $\\approx$ - означает, что обе части отличаются только на величину, стремящуюся к нулю по вероятности.\n",
        "\n",
        "\n",
        "$\\square$ Для упращения записи $\\hat{p}_{i j k}=\\hat{p}\\left(X=x_{i}, Y=\\right.$ $\\left.y_{j}, Z=z_{k}\\right), \\hat{p}_{i j}=\\hat{p}\\left(X=x_{i}, Y=y_{j}\\right)$ и т.д.. Запишем, используя определение условной совместной информации:\n",
        "\n",
        "$2 n \\hat{I}(Y, Z \\mid X)=2 n \\sum_{i, j, k} \\hat{p}_{i j k} \\log \\frac{\\hat{p}_{i j k} \\hat{p}_{i}}{\\hat{p}_{i j} \\hat{p}_{i k}}$\n",
        "\n",
        "\\begin{equation*}\n",
        "=2 n \\sum_{i} \\frac{1}{\\hat{p}_{i}} \\sum_{j, k} \\hat{p}_{i j k} \\hat{p}_{i} \\log \\left(1+\\frac{\\hat{p}_{i j k} \\hat{p}_{i}-\\hat{p}_{i j} \\hat{p}_{i k}}{\\hat{p}_{i j} \\hat{p}_{i k}}\\right) \\tag{4}\n",
        "\\end{equation*}\n",
        "\n",
        "\n",
        "Используя $\\log (1+x)=x-x^{2} / 2+O\\left(x^{3}\\right)$ для малых $x$, получим:\n",
        "\n",
        "\n",
        "\\begin{align*}\n",
        "\\log \\left(1+\\frac{\\hat{p}_{i j k} \\hat{p}_{i}-\\hat{p}_{i j} \\hat{p}_{i k}}{\\hat{p}_{i j} \\hat{p}_{i k}}\\right)= & \\frac{\\hat{p}_{i j k} \\hat{p}_{i}-\\hat{p}_{i j} \\hat{p}_{i k}}{\\hat{p}_{i j} \\hat{p}_{i k}}-\\frac{1}{2} \\frac{\\left(\\hat{p}_{i j k} \\hat{p}_{i}-\\hat{p}_{i j} \\hat{p}_{i k}\\right)^{2}}{\\left(\\hat{p}_{i j} \\hat{p}_{i k}\\right)^{2}} \\\\\n",
        "& +O\\left(\\frac{\\left(\\hat{p}_{i j k} \\hat{p}_{i}-\\hat{p}_{i j} \\hat{p}_{i k}\\right)^{3}}{\\left(\\hat{p}_{i j} \\hat{p}_{i k}\\right)^{3}}\\right) \\tag{5}\n",
        "\\end{align*}\n",
        "\n",
        "Вставим выражение выше в (4), видим, что член содержащий последний член в (5) ограничен некоторой $C>0$ как\n",
        "\n",
        "\n",
        "\\begin{align*}\n",
        "C \\times & 2 n \\sum_{i} \\frac{1}{\\hat{p}_{i}} \\sum_{j, k} \\frac{\\left(\\hat{p}_{i j k} \\hat{p}_{i}-\\hat{p}_{i j} \\hat{p}_{i k}\\right)^{3}}{\\left(\\hat{p}_{i j} \\hat{p}_{i k}\\right)^{3}} \\\\\n",
        "\\leq & C \\times 2 n \\sum_{i} \\frac{1}{\\hat{p}_{i}} \\times \\frac{\\max _{j, k}\\left|\\hat{p}_{i j k} \\hat{p}_{i}-\\hat{p}_{i j} \\hat{p}_{i k}\\right|}{\\min _{j, k}\\left(\\hat{p}_{i j} \\hat{p}_{i k}\\right)^{2}} \\sum_{j, k} \\frac{\\left(\\hat{p}_{i j k} \\hat{p}_{i}-\\hat{p}_{i j} \\hat{p}_{i k}\\right)^{2}}{\\hat{p}_{i j} \\hat{p}_{i k}} \\\\\n",
        "= & C \\times 2 \\sum_{i} \\frac{1}{\\hat{p}_{i}^{2}} \\times \\frac{\\max _{j, k}\\left|\\hat{p}_{i j k} \\hat{p}_{i}-\\hat{p}_{i j} \\hat{p}_{i k}\\right|}{\\min _{j, k}\\left(\\hat{p}_{i j} \\hat{p}_{i k}\\right)^{2}} \\\\\n",
        "& \\times n \\hat{p}_{i} \\sum_{j, k} \\frac{\\left(\\hat{p}_{i j k} \\hat{p}_{i}-\\hat{p}_{i j} \\hat{p}_{i k}\\right)^{2}}{\\hat{p}_{i j} \\hat{p}_{i k}} \\tag{6}\n",
        "\\end{align*}\n",
        "\n",
        "\\begin{align*}\n",
        "= & C \\times 2 \\sum_{i} \\frac{1}{\\hat{p}_{i}^{2}} \\times \\frac{\\max _{j, k}\\left|\\hat{p}_{i j k} \\hat{p}_{i}-\\hat{p}_{i j} \\hat{p}_{i k}\\right|}{\\min _{j, k}\\left(\\hat{p}_{i j} \\hat{p}_{i k}\\right)^{2}} \\\\\n",
        "& \\times n \\hat{p}_{i} \\sum_{j, k} \\frac{\\left(\\hat{p}_{i j k} \\hat{p}_{i}-\\hat{p}_{i j} \\hat{p}_{i k}\\right)^{2}}{\\hat{p}_{i j} \\hat{p}_{i k}} \\tag{6}\n",
        "\\end{align*}\n",
        "\n",
        "В силу условной независимости и сходимости $\\hat{p}_{i j} \\rightarrow$ $p_{i j}>0, \\hat{p}_{i k} \\rightarrow p_{i k}>0$ имеем\n",
        "\\begin{align*}\n",
        "\\left|\\hat{p}_{i j k} \\hat{p}_{i}-\\hat{p}_{i j} \\hat{p}_{i k}\\right| \\rightarrow\\left|p_{i j k} p_{i}-p_{i j} p_{i k}\\right|=0 \\tag{7}\n",
        "\\end{align*}\n",
        "\n",
        "при $n \\rightarrow \\infty$.\n",
        "\n",
        "В силу  (7) и (10) ниже, последний член в (6) -  сумма двух членов таких, что первый член сходится к нулю, и второй член имеет распределение хи-квадрат. Следовательно, из теоремы Слуцкого следует, что оценка в (6) сходится по вероятности к  0 , когда $n \\rightarrow \\infty$. Таким образом  $2 n \\hat{I}(Y, Z \\mid X)$ примерно равен\n",
        "\n",
        "\n",
        "\\begin{align*}\n",
        "& 2 n \\sum_{i} \\frac{1}{\\hat{p}_{i}} \\sum_{j, k}\\left[\\hat{p}_{i j k} \\hat{p}_{i}-\\hat{p}_{i j} \\hat{p}_{i k}+\\hat{p}_{i j} \\hat{p}_{i k}\\right] \\\\\n",
        "& \\times\\left[\\frac{\\hat{p}_{i j k} \\hat{p}_{i}-\\hat{p}_{i j} \\hat{p}_{i k}}{\\hat{p}_{i j} \\hat{p}_{i k}}-\\frac{1}{2} \\frac{\\left(\\hat{p}_{i j k} \\hat{p}_{i}-\\hat{p}_{i j} \\hat{p}_{i k}\\right)^{2}}{\\left(\\hat{p}_{i j} \\hat{p}_{i k}\\right)^{2}}\\right] \\\\\n",
        "& =2 n \\sum_{i} \\frac{1}{\\hat{p}_{i}} \\sum_{j, k}\\left(\\hat{p}_{i j k} \\hat{p}_{i}-\\hat{p}_{i j} \\hat{p}_{i k}+\\frac{\\left(\\hat{p}_{i j k} \\hat{p}_{i}-\\hat{p}_{i j} \\hat{p}_{i k}\\right)^{2}}{\\hat{p}_{i j} \\hat{p}_{i k}}\\right. \\\\\n",
        "& \\left.-\\frac{1}{2} \\frac{\\left(\\hat{p}_{i j k} \\hat{p}_{i}-\\hat{p}_{i j} \\hat{p}_{i k}\\right)^{2}}{\\hat{p}_{i j} \\hat{p}_{i k}}+\\frac{1}{2} \\frac{\\left(\\hat{p}_{i j k} \\hat{p}_{i}-\\hat{p}_{i j} \\hat{p}_{i k}\\right)^{3}}{\\left(\\hat{p}_{i j} \\hat{p}_{i k}\\right)^{2}}\\right) \\\\\n",
        "\\end{align*}\n",
        "\n",
        "\\begin{align*}\n",
        "& =2 n \\sum_{i} \\frac{1}{\\hat{p}_{i}} \\sum_{j, k}\\left(\\hat{p}_{i j k} \\hat{p}_{i}-\\hat{p}_{i j} \\hat{p}_{i k}+\\frac{\\left(\\hat{p}_{i j k} \\hat{p}_{i}-\\hat{p}_{i j} \\hat{p}_{i k}\\right)^{2}}{\\hat{p}_{i j} \\hat{p}_{i k}}\\right. \\\\\n",
        "& \\left.-\\frac{1}{2} \\frac{\\left(\\hat{p}_{i j k} \\hat{p}_{i}-\\hat{p}_{i j} \\hat{p}_{i k}\\right)^{2}}{\\hat{p}_{i j} \\hat{p}_{i k}}+\\frac{1}{2} \\frac{\\left(\\hat{p}_{i j k} \\hat{p}_{i}-\\hat{p}_{i j} \\hat{p}_{i k}\\right)^{3}}{\\left(\\hat{p}_{i j} \\hat{p}_{i k}\\right)^{2}}\\right) \\\\\n",
        "& \\approx n \\sum_{i} \\frac{1}{\\hat{p}_{i}} \\sum_{j, k}\\left( 2(\\hat{p}_{i j k} \\hat{p}_{i}-\\hat{p}_{i j} \\hat{p}_{i k}) +\\frac{\\left(\\hat{p}_{i j k} \\hat{p}_{i}-\\hat{p}_{i j} \\hat{p}_{i k}\\right)^{2}}{\\hat{p}_{i j} \\hat{p}_{i k}}\\right) \\\\\n",
        "& =n \\sum_{i} \\frac{1}{\\hat{p}_{i}} \\sum_{j, k} \\frac{\\left(\\hat{p}_{i j k} \\hat{p}_{i}-\\hat{p}_{i j} \\hat{p}_{i k}\\right)^{2}}{\\hat{p}_{i j} \\hat{p}_{i k}} \\tag{8}\n",
        "\\end{align*}\n",
        "\n",
        "где приближение в (8) получено аналогично как в (6), и последнее равенство следует из то, что  $\\sum_{j, k} (\\hat{p}_{i j k} \\hat{p}_{i}-$\n",
        "$\\hat{p}_{i j} \\hat{p}_{i k})=0$. Последнее полученное выражение равно\n",
        "\n",
        "\n",
        "\\begin{align*}\n",
        "& n \\sum_{i} \\hat{p}_{i} \\sum_{j, k} \\frac{\\left(\\hat{p}_{i j k} / \\hat{p}_{i}-\\hat{p}_{i j} \\hat{p}_{i k} / \\hat{p}_{i}^{2}\\right)^{2}}{\\hat{p}_{i j} \\hat{p}_{i k} / \\hat{p}_{i}^{2}} \\\\\n",
        "& \\quad=\\sum_{i} n_{i} \\sum_{j, k} \\frac{\\left(\\hat{p}_{i j k} / \\hat{p}_{i}-\\hat{p}_{i j} \\hat{p}_{i k} / \\hat{p}_{i}^{2}\\right)^{2}}{\\hat{p}_{i j} \\hat{p}_{i k} / \\hat{p}_{i}^{2}}=: \\sum_{i=1}^{|\\mathcal{X}|} W_{i} \\tag{9}\n",
        "\\end{align*}\n",
        "\n",
        "\n",
        "где $n_{i}=n \\hat{p}_{\\text {i }}$.\n",
        "\n",
        "Заметим, что $W_{i}$ есть хи-квадрат статистика для тестирования независимости  $Y$ и $Z$ при $X=x_{i}$, которая при предположении независимости $Y$ и $Z$ при $X$ имеет асомптотическое $\\chi^{2}$ распределение со $(|\\mathcal{Y}|-1)(|\\mathcal{Z}|-1)$ степенями свободы\n",
        "\n",
        "\\begin{align*}\n",
        "    & W_{i}=n_{i} \\sum_{j, k} \\frac{\\left(\\hat{p}_{i j k} \\hat{p}_{i}-\\hat{p}_{i j} \\hat{p}_{i k}\\right)^{2}}{\\hat{p}_{i j} \\hat{p}_{i k}} \\approx \\chi_{(|\\mathcal{Y}|-1)(|\\mathcal{Z}|-1)}^{2} \\tag{10} \\\\\n",
        "\\end{align*}\n",
        "\n",
        "в силу (Теорема 6.9, Shao Mathematical Statistics). Автором было показано, что число степеней свободы предельного $\\chi^{2}$ распределения равно $p-s-1$, где $p=|\\mathcal{Y}||\\mathcal{Z}|$ и $s=(|\\mathcal{Y} \\mid-1)+(|\\mathcal{Z}|-1)$, при предположении условной независимости $(|\\mathcal{Y}|-1)+(|\\mathcal{Z}|-1)$ условных вероятностей $Y$ и $Z$ при $X=x_{i}$ нужно определить, чтобы определить условное распределение $(Y, Z)$ при $X=x_{i}$. Таким образом общее число степеней свободы равно $|\\mathcal{Y}||\\mathcal{Z}|-(|\\mathcal{Y}|-1)-(|\\mathcal{Z}|-1)-1=(|\\mathcal{Y}|-1)(|\\mathcal{Z}|-1)$. $\\square$"
      ],
      "metadata": {
        "id": "da-pFCMOq0Dt"
      }
    },
    {
      "cell_type": "markdown",
      "source": [
        "# Дополнительные предположения.\n",
        "\n",
        "Также предположим, что при условной независимости $Y$ и $Z$ при $X$ величины $W_i s$ асимптотически независимы и сумма $\\sum_{i=1}^{|\\mathcal{X}|} W_i$ имеет хи-квадрат распределение со  $|\\mathcal{X}|(|\\mathcal{Y}|-1)(|\\mathcal{Z}|-1)$ степенями свободы. Это предположение верно, например, при $|\\mathcal{Y}|=|\\mathcal{Z}|=2$ и $|\\mathcal{X}|$ произвольный конечный ($[28])$.\n",
        "\n",
        "Такие предположения применяются к  $\\hat{I}\\left(X_j, Y \\mid X_i\\right)$ в $\\hat{J}\\left(X_j, S\\right)$ в (3). Тогда каждое $\\hat{I}\\left(X_j, Y \\mid X_i\\right)$ примерно имеет хи-квадрат распределение со $\\left|\\mathcal{X}_i\\right|\\left(\\left|\\mathcal{X}_j\\right|-1\\right)(|\\mathcal{Y}|-1)$ степенями свободы. Следовательно, из (3)  и из факта, что $2 n \\hat{I}\\left(X_j, Y\\right)$ примерно распределено как $\\chi^2$  со $\\left(\\left|\\mathcal{X}_j\\right|-1\\right)((|\\mathcal{Y}|-1)$ степенями свободы, получается $2 n \\hat{\\jmath}\\left(X_j, S\\right)$ имеет хи-квадрат распределение с\n",
        "$$\n",
        "\\begin{aligned}\n",
        "d= & d(j,|S|)=\\left(\\left|\\mathcal{X}_j\\right|-1\\right)(|\\mathcal{Y}|-1) \\sum_{i=1}^{|S|}\\left|\\mathcal{X}_i\\right| \\\\\n",
        "& +(1-|S|)\\left(\\left|\\mathcal{X}_j\\right|-1\\right)(|\\mathcal{Y}|-1)\n",
        "\\end{aligned}\n",
        "$$\n",
        "степенями своболы. Из выражения в теореме  математическое ожидание $2 n \\hat{j}\\left(X_j, S\\right)$ примерно $d(j,|S|)$ .\n",
        "\n",
        "Обоснованием для использования предположения об асимптотической независимости является результат из ([12]). А именно, Хан в [12] доказал, что при совместной независимости $X_i, X_j$ и $Y$ выражение $2 n \\hat{I}\\left(X_i, X_j, Y\\right)$ примерно распределено как хи-квадрат с $\\left(\\left|\\mathcal{X}_i\\right|-1\\right)\\left(\\left|\\mathcal{X}_j\\right|-1\\right)(|\\mathcal{Y}|-1)$ степенями свободы. Просуммируя степени свободы в (3), получается:\n",
        "$$\n",
        "\\left(\\mathcal{X}_j \\mid-1\\right)(|\\mathcal{Y}|-1) \\sum_{i=1}^{|S|}\\left(\\left|\\mathcal{X}_i\\right|-1\\right)+\\left(\\left|\\mathcal{X}_j\\right|-1\\right)(|\\mathcal{Y}|-1)=d(j,|S|) .\n",
        "$$\n",
        "\n"
      ],
      "metadata": {
        "id": "_jJOCnxNrldr"
      }
    },
    {
      "cell_type": "markdown",
      "source": [
        "# Практическая часть.\n",
        "\n",
        "Покажем результаты тестирования работы правила остановки. Будут проводиться эксперименты на симулированных данных. Далее будет приведён результат работы на примере базе данных рассылок спама Spambase (4601 наблюдений, 57 признаков).\n",
        "\n",
        "При симуляции будут заданы зависимости от части сгенерированных признаков. Задача обнаружить их. Заранее зная их, можно оценить точность алгоритма.\n",
        "\n",
        "Пусть $S_0=\\emptyset$ и\n",
        "$$\n",
        "j_k=\\operatorname{argmax}_{j \\in S_k^c} 2 n \\hat{\\jmath}\\left(X_j, S_k\\right)\n",
        "$$\n",
        "номер кандидата с наибольшей информативностью (при $\\left.k=0, j_0=\\operatorname{argmax}_{j \\in S_k^c} 2 n \\hat{I}\\left(X_j, Y\\right)\\right)$. Тогда $S_{k+1}=S_k \\cup\\left\\{j_k\\right\\}$ и\n",
        "$$\n",
        "\\hat{t}_{\\text {chi}}=\\operatorname{argmin}_{k=1, \\ldots, p}\\left\\{2 n \\hat{\\jmath}\\left(X_{j_k}, S_k\\right) \\leq \\chi_{1-\\alpha, d\\left(S_k\\right)}^2\\right\\}\n",
        "$$\n",
        "где $\\alpha$ - квантиль. Будет далее предполагаться равным 0.05.\n",
        "\n",
        "Алгоритм построения симудированных данных.\n",
        "\n",
        "\n",
        "\n",
        "1. Генерируются независимые $X_1 \\cdots X_p$ гауссовские величины(матожидание - 0, дисперсия - 1).\n",
        "2. Генерируется бернуллиевская величина $Y$ с условной вероятностью $P(Y = 1| X_1, \\cdots, X_p) = \\sigma(X_M + f(X_M, X_L))$.\n",
        "3. $M, L$ - подмножество индексов, $|M| = |L|$.\n",
        "4. Далее выполняется процесс дискретизации непрерывных величин.\n",
        "\n",
        "Далее $M$ - будем иметь нумерацию с 1 элемента(например, (1), (1,2), (1,2,3,4)). $L$ - следущие аналогично.\n",
        "\n",
        "Функция $f$ будет представляться в виде:\n",
        "1. $f_1(X_M, X_L) = \\sum_i X_{M_i} X_{L_i}$\n",
        "2. $f_2(X_M, X_L) = \\sum_i max(X_{M_i} X_{L_i})$\n",
        "3. $f_3(X_M, X_L) = \\sum_i min(X_{M_i} X_{L_i})$\n",
        "4. $f_4(X_M, X_L) = \\sum_i I(X_{M_i} X_{L_i} < 0)$\n",
        "5. $f_5(X_M, X_L) = \\sum_i sgn(X_{M_i} X_{L_i})$\n",
        "6. $f_6(X_M, X_L) = \\sum_i I(X_{M_i} > X_{L_i})$\n",
        "\n",
        "Эффективность будет оцениваться метрикой PSR(Positive Selection Ratio) - (число выбранных настоящих значимых признаков)/(общее число настоящих значимых признаков).\n"
      ],
      "metadata": {
        "id": "7yeHda5pycye"
      }
    },
    {
      "cell_type": "markdown",
      "source": [
        "# Примеры."
      ],
      "metadata": {
        "id": "rcpIqPHW4Hnv"
      }
    },
    {
      "cell_type": "code",
      "execution_count": null,
      "metadata": {
        "id": "Ieoqf3l_nqYb"
      },
      "outputs": [],
      "source": [
        "import numpy as np\n",
        "from sklearn.metrics import mutual_info_score\n",
        "from sklearn.feature_selection import mutual_info_classif\n",
        "from pyitlib import discrete_random_variable as drv\n",
        "from scipy.stats import chi2\n",
        "import matplotlib.pyplot as plt\n",
        "plt.style.use('https://github.com/dhaitz/matplotlib-stylesheets/raw/master/pitayasmoothie-light.mplstyle')\n",
        "np.random.seed(42)\n"
      ]
    },
    {
      "cell_type": "code",
      "source": [
        "from  FeatureSelection import Choice\n",
        "from auxiliary import Plot_Features, test, Generate_Y"
      ],
      "metadata": {
        "id": "GLJ4gowmoDmu"
      },
      "execution_count": null,
      "outputs": []
    },
    {
      "cell_type": "code",
      "execution_count": null,
      "metadata": {
        "id": "C92gAYCNnqYe",
        "outputId": "4bc7eacf-297a-48fb-906f-862f0584e9b8"
      },
      "outputs": [
        {
          "data": {
            "text/plain": [
              "array([2, 3, 0, 1])"
            ]
          },
          "execution_count": 10,
          "metadata": {},
          "output_type": "execute_result"
        }
      ],
      "source": [
        "N_ = 4000          # Число наблюдений\n",
        "p = 100            # Общее число признаков\n",
        "M_ = 2             # Число признаков в М\n",
        "number_bins = 2    # Число бинов дискретизации\n",
        "f_type = 1         # Номер функции зависимости\n",
        "\n",
        "test(N_, p, M_, number_bins, f_type) # Вывод вычисленных номеров значимых признаков. 100% попадание"
      ]
    },
    {
      "cell_type": "code",
      "execution_count": null,
      "metadata": {
        "id": "fmYnVfFXnqYf",
        "outputId": "33b56e84-9573-4dd1-fc53-b5fed04483e8"
      },
      "outputs": [
        {
          "data": {
            "image/png": "[encoded data removed]",
            "text/plain": [
              "<Figure size 432x288 with 1 Axes>"
            ]
          },
          "metadata": {},
          "output_type": "display_data"
        }
      ],
      "source": [
        "p = 100            # Число наблюдений\n",
        "M_ = 2             # Число признаков в М\n",
        "number_bins = 2    # Число бинов дискретизации\n",
        "min_N_ = 1000      # Начало отсчета числа наборов\n",
        "max_N_ = 10000     # Конец отсчетв числа наборов\n",
        "number_N_ = 10     # Число экспериментов\n",
        "True_Features = np.array([0, 1, 2, 3])  # Настоящий набор значимых факторов\n",
        "f_type = 1\n",
        "\n",
        "Plot_Features(p, M_, number_bins, min_N_, max_N_, number_N_, True_Features, f_type)"
      ]
    },
    {
      "cell_type": "code",
      "execution_count": null,
      "metadata": {
        "id": "mUSieOlTnqYf",
        "outputId": "c516a307-3e3b-4bfb-e0b2-2b4c77b00410"
      },
      "outputs": [
        {
          "data": {
            "image/png": "[encoded data removed]",
            "text/plain": [
              "<Figure size 432x288 with 1 Axes>"
            ]
          },
          "metadata": {},
          "output_type": "display_data"
        }
      ],
      "source": [
        "p = 100                      # Аналогично\n",
        "M_ = 4\n",
        "number_bins = 2\n",
        "min_N_ = 1000\n",
        "max_N_ = 10000\n",
        "number_N_ = 10\n",
        "True_Features = np.linspace(0, 7, 8, dtype=int)\n",
        "f_type = 1\n",
        "\n",
        "Plot_Features(p, M_, number_bins, min_N_, max_N_, number_N_, True_Features, f_type)"
      ]
    },
    {
      "cell_type": "code",
      "execution_count": null,
      "metadata": {
        "id": "s4Pwc7ELnqYf",
        "outputId": "b3e89431-5127-44fa-9e31-e1c0f75c6175"
      },
      "outputs": [
        {
          "data": {
            "image/png": "[encoded data removed]",
            "text/plain": [
              "<Figure size 432x288 with 1 Axes>"
            ]
          },
          "metadata": {},
          "output_type": "display_data"
        }
      ],
      "source": [
        "p = 100                # Аналогично\n",
        "M_ = 8\n",
        "number_bins = 2\n",
        "min_N_ = 1000\n",
        "max_N_ = 15000\n",
        "number_N_ = 10\n",
        "True_Features = np.linspace(0, 15, 16, dtype=int)\n",
        "f_type = 1\n",
        "\n",
        "Plot_Features(p, M_, number_bins, min_N_, max_N_, number_N_, True_Features, f_type)"
      ]
    },
    {
      "cell_type": "code",
      "execution_count": null,
      "metadata": {
        "id": "IztOmOfrnqYf",
        "outputId": "b076da62-2157-4826-ee85-8063ee6b5336"
      },
      "outputs": [
        {
          "data": {
            "image/png": "[encoded data removed]",
            "text/plain": [
              "<Figure size 432x288 with 1 Axes>"
            ]
          },
          "metadata": {},
          "output_type": "display_data"
        }
      ],
      "source": [
        "p = 100                 # Аналогично\n",
        "M_ = 2\n",
        "number_bins = 2\n",
        "min_N_ = 1000\n",
        "max_N_ = 5000\n",
        "number_N_ = 10\n",
        "True_Features = np.linspace(0, 3, 4, dtype=int)\n",
        "f_type = 2\n",
        "\n",
        "Plot_Features(p, M_, number_bins, min_N_, max_N_, number_N_, True_Features, f_type)"
      ]
    },
    {
      "cell_type": "code",
      "execution_count": null,
      "metadata": {
        "id": "411AuLdUnqYg",
        "outputId": "598b48d4-1472-42a4-cd33-7d61723b68d2"
      },
      "outputs": [
        {
          "data": {
            "image/png": "[encoded data removed]",
            "text/plain": [
              "<Figure size 432x288 with 1 Axes>"
            ]
          },
          "metadata": {},
          "output_type": "display_data"
        }
      ],
      "source": [
        "p = 100                  # Аналогично\n",
        "M_ = 4\n",
        "number_bins = 2\n",
        "min_N_ = 1000\n",
        "max_N_ = 8000\n",
        "number_N_ = 10\n",
        "True_Features = np.linspace(0, 7, 8, dtype=int)\n",
        "f_type = 2\n",
        "\n",
        "Plot_Features(p, M_, number_bins, min_N_, max_N_, number_N_, True_Features, f_type)"
      ]
    },
    {
      "cell_type": "code",
      "execution_count": null,
      "metadata": {
        "id": "U-YT0LKanqYg",
        "outputId": "a3e9850c-ba95-462c-f52e-97f1d8e63434"
      },
      "outputs": [
        {
          "data": {
            "image/png": "[encoded data removed]",
            "text/plain": [
              "<Figure size 432x288 with 1 Axes>"
            ]
          },
          "metadata": {},
          "output_type": "display_data"
        }
      ],
      "source": [
        "p = 100                   # Аналогично\n",
        "M_ = 8\n",
        "number_bins = 2\n",
        "min_N_ = 1000\n",
        "max_N_ = 10000\n",
        "number_N_ = 10\n",
        "True_Features = np.linspace(0, 15, 16, dtype=int)\n",
        "f_type = 2\n",
        "\n",
        "Plot_Features(p, M_, number_bins, min_N_, max_N_, number_N_, True_Features, f_type)"
      ]
    },
    {
      "cell_type": "code",
      "execution_count": null,
      "metadata": {
        "id": "euqr8lqlnqYg",
        "outputId": "acf89676-a57a-4d5a-9106-6e459c0e4eaa"
      },
      "outputs": [
        {
          "data": {
            "text/plain": [
              "array([1, 2, 3, 0])"
            ]
          },
          "execution_count": 715,
          "metadata": {},
          "output_type": "execute_result"
        }
      ],
      "source": [
        "N_ = 10000                      # Аналогично\n",
        "p = 400\n",
        "M_ = 4\n",
        "number_bins = 2\n",
        "f_type = 1\n",
        "\n",
        "test(N_, p, M_, number_bins, f_type)"
      ]
    },
    {
      "cell_type": "markdown",
      "source": [
        "# Эксперимент на реальных данных."
      ],
      "metadata": {
        "id": "HQLW5U3m5TD-"
      }
    },
    {
      "cell_type": "code",
      "execution_count": null,
      "metadata": {
        "id": "PS-GxAhFnqYh",
        "outputId": "548cca23-32b3-47f3-8934-1f5ce95b79bc"
      },
      "outputs": [
        {
          "name": "stdout",
          "output_type": "stream",
          "text": [
            "{'uci_id': 94, 'name': 'Spambase', 'repository_url': 'https://archive.ics.uci.edu/dataset/94/spambase', 'data_url': 'https://archive.ics.uci.edu/static/public/94/data.csv', 'abstract': 'Classifying Email as Spam or Non-Spam', 'area': 'Computer Science', 'tasks': ['Classification'], 'characteristics': ['Multivariate'], 'num_instances': 4601, 'num_features': 57, 'feature_types': ['Integer', 'Real'], 'demographics': [], 'target_col': ['Class'], 'index_col': None, 'has_missing_values': 'no', 'missing_values_symbol': None, 'year_of_dataset_creation': 1999, 'last_updated': 'Mon Aug 28 2023', 'dataset_doi': '10.24432/C53G6X', 'creators': ['Mark Hopkins', 'Erik Reeber', 'George Forman', 'Jaap Suermondt'], 'intro_paper': None, 'additional_info': {'summary': 'The \"spam\" concept is diverse: advertisements for products/web sites, make money fast schemes, chain letters, pornography...\\n\\nThe classification task for this dataset is to determine whether a given email is spam or not.\\n\\t\\nOur collection of spam e-mails came from our postmaster and individuals who had filed spam.  Our collection of non-spam e-mails came from filed work and personal e-mails, and hence the word \\'george\\' and the area code \\'650\\' are indicators of non-spam.  These are useful when constructing a personalized spam filter.  One would either have to blind such non-spam indicators or get a very wide collection of non-spam to generate a general purpose spam filter.\\n\\nFor background on spam: Cranor, Lorrie F., LaMacchia, Brian A.  Spam!, Communications of the ACM, 41(8):74-83, 1998.\\n\\nTypical performance is around ~7% misclassification error. False positives (marking good mail as spam) are very undesirable.If we insist on zero false positives in the training/testing set, 20-25% of the spam passed through the filter. See also Hewlett-Packard Internal-only Technical Report. External version forthcoming. ', 'purpose': None, 'funded_by': None, 'instances_represent': 'Emails', 'recommended_data_splits': None, 'sensitive_data': None, 'preprocessing_description': None, 'variable_info': 'The last column of \\'spambase.data\\' denotes whether the e-mail was considered spam (1) or not (0), i.e. unsolicited commercial e-mail.  Most of the attributes indicate whether a particular word or character was frequently occuring in the e-mail.  The run-length attributes (55-57) measure the length of sequences of consecutive capital letters.  For the statistical measures of each attribute, see the end of this file.  Here are the definitions of the attributes:\\r\\n\\r\\n48 continuous real [0,100] attributes of type word_freq_WORD \\r\\n= percentage of words in the e-mail that match WORD, i.e. 100 * (number of times the WORD appears in the e-mail) / total number of words in e-mail.  A \"word\" in this case is any string of alphanumeric characters bounded by non-alphanumeric characters or end-of-string.\\r\\n\\r\\n6 continuous real [0,100] attributes of type char_freq_CHAR] \\r\\n= percentage of characters in the e-mail that match CHAR, i.e. 100 * (number of CHAR occurences) / total characters in e-mail\\r\\n\\r\\n1 continuous real [1,...] attribute of type capital_run_length_average \\r\\n= average length of uninterrupted sequences of capital letters\\r\\n\\r\\n1 continuous integer [1,...] attribute of type capital_run_length_longest \\r\\n= length of longest uninterrupted sequence of capital letters\\r\\n\\r\\n1 continuous integer [1,...] attribute of type capital_run_length_total \\r\\n= sum of length of uninterrupted sequences of capital letters \\r\\n= total number of capital letters in the e-mail\\r\\n\\r\\n1 nominal {0,1} class attribute of type spam\\r\\n= denotes whether the e-mail was considered spam (1) or not (0), i.e. unsolicited commercial e-mail.  \\r\\n', 'citation': None}}\n",
            "                          name     role        type demographic  \\\n",
            "0               word_freq_make  Feature  Continuous        None   \n",
            "1            word_freq_address  Feature  Continuous        None   \n",
            "2                word_freq_all  Feature  Continuous        None   \n",
            "3                 word_freq_3d  Feature  Continuous        None   \n",
            "4                word_freq_our  Feature  Continuous        None   \n",
            "5               word_freq_over  Feature  Continuous        None   \n",
            "6             word_freq_remove  Feature  Continuous        None   \n",
            "7           word_freq_internet  Feature  Continuous        None   \n",
            "8              word_freq_order  Feature  Continuous        None   \n",
            "9               word_freq_mail  Feature  Continuous        None   \n",
            "10           word_freq_receive  Feature  Continuous        None   \n",
            "11              word_freq_will  Feature  Continuous        None   \n",
            "12            word_freq_people  Feature  Continuous        None   \n",
            "13            word_freq_report  Feature  Continuous        None   \n",
            "14         word_freq_addresses  Feature  Continuous        None   \n",
            "15              word_freq_free  Feature  Continuous        None   \n",
            "16          word_freq_business  Feature  Continuous        None   \n",
            "17             word_freq_email  Feature  Continuous        None   \n",
            "18               word_freq_you  Feature  Continuous        None   \n",
            "19            word_freq_credit  Feature  Continuous        None   \n",
            "20              word_freq_your  Feature  Continuous        None   \n",
            "21              word_freq_font  Feature  Continuous        None   \n",
            "22               word_freq_000  Feature  Continuous        None   \n",
            "23             word_freq_money  Feature  Continuous        None   \n",
            "24                word_freq_hp  Feature  Continuous        None   \n",
            "25               word_freq_hpl  Feature  Continuous        None   \n",
            "26            word_freq_george  Feature  Continuous        None   \n",
            "27               word_freq_650  Feature  Continuous        None   \n",
            "28               word_freq_lab  Feature  Continuous        None   \n",
            "29              word_freq_labs  Feature  Continuous        None   \n",
            "30            word_freq_telnet  Feature  Continuous        None   \n",
            "31               word_freq_857  Feature  Continuous        None   \n",
            "32              word_freq_data  Feature  Continuous        None   \n",
            "33               word_freq_415  Feature  Continuous        None   \n",
            "34                word_freq_85  Feature  Continuous        None   \n",
            "35        word_freq_technology  Feature  Continuous        None   \n",
            "36              word_freq_1999  Feature  Continuous        None   \n",
            "37             word_freq_parts  Feature  Continuous        None   \n",
            "38                word_freq_pm  Feature  Continuous        None   \n",
            "39            word_freq_direct  Feature  Continuous        None   \n",
            "40                word_freq_cs  Feature  Continuous        None   \n",
            "41           word_freq_meeting  Feature  Continuous        None   \n",
            "42          word_freq_original  Feature  Continuous        None   \n",
            "43           word_freq_project  Feature  Continuous        None   \n",
            "44                word_freq_re  Feature  Continuous        None   \n",
            "45               word_freq_edu  Feature  Continuous        None   \n",
            "46             word_freq_table  Feature  Continuous        None   \n",
            "47        word_freq_conference  Feature  Continuous        None   \n",
            "48                 char_freq_;  Feature  Continuous        None   \n",
            "49                 char_freq_(  Feature  Continuous        None   \n",
            "50                 char_freq_[  Feature  Continuous        None   \n",
            "51                 char_freq_!  Feature  Continuous        None   \n",
            "52                 char_freq_$  Feature  Continuous        None   \n",
            "53                 char_freq_#  Feature  Continuous        None   \n",
            "54  capital_run_length_average  Feature  Continuous        None   \n",
            "55  capital_run_length_longest  Feature  Continuous        None   \n",
            "56    capital_run_length_total  Feature  Continuous        None   \n",
            "57                       Class   Target      Binary        None   \n",
            "\n",
            "                 description units missing_values  \n",
            "0                       None  None             no  \n",
            "1                       None  None             no  \n",
            "2                       None  None             no  \n",
            "3                       None  None             no  \n",
            "4                       None  None             no  \n",
            "5                       None  None             no  \n",
            "6                       None  None             no  \n",
            "7                       None  None             no  \n",
            "8                       None  None             no  \n",
            "9                       None  None             no  \n",
            "10                      None  None             no  \n",
            "11                      None  None             no  \n",
            "12                      None  None             no  \n",
            "13                      None  None             no  \n",
            "14                      None  None             no  \n",
            "15                      None  None             no  \n",
            "16                      None  None             no  \n",
            "17                      None  None             no  \n",
            "18                      None  None             no  \n",
            "19                      None  None             no  \n",
            "20                      None  None             no  \n",
            "21                      None  None             no  \n",
            "22                      None  None             no  \n",
            "23                      None  None             no  \n",
            "24                      None  None             no  \n",
            "25                      None  None             no  \n",
            "26                      None  None             no  \n",
            "27                      None  None             no  \n",
            "28                      None  None             no  \n",
            "29                      None  None             no  \n",
            "30                      None  None             no  \n",
            "31                      None  None             no  \n",
            "32                      None  None             no  \n",
            "33                      None  None             no  \n",
            "34                      None  None             no  \n",
            "35                      None  None             no  \n",
            "36                      None  None             no  \n",
            "37                      None  None             no  \n",
            "38                      None  None             no  \n",
            "39                      None  None             no  \n",
            "40                      None  None             no  \n",
            "41                      None  None             no  \n",
            "42                      None  None             no  \n",
            "43                      None  None             no  \n",
            "44                      None  None             no  \n",
            "45                      None  None             no  \n",
            "46                      None  None             no  \n",
            "47                      None  None             no  \n",
            "48                      None  None             no  \n",
            "49                      None  None             no  \n",
            "50                      None  None             no  \n",
            "51                      None  None             no  \n",
            "52                      None  None             no  \n",
            "53                      None  None             no  \n",
            "54                      None  None             no  \n",
            "55                      None  None             no  \n",
            "56                      None  None             no  \n",
            "57  spam (1) or not spam (0)  None             no  \n"
          ]
        }
      ],
      "source": [
        "from ucimlrepo import fetch_ucirepo\n",
        "\n",
        "# fetch dataset\n",
        "spambase = fetch_ucirepo(id=94)\n",
        "\n",
        "# data (as pandas dataframes)\n",
        "X = spambase.data.features\n",
        "y = spambase.data.targets\n",
        "\n",
        "# metadata\n",
        "print(spambase.metadata)\n",
        "\n",
        "# variable information\n",
        "print(spambase.variables)\n"
      ]
    },
    {
      "cell_type": "code",
      "execution_count": null,
      "metadata": {
        "id": "baBb8YrynqYh",
        "outputId": "7b6a469e-95f6-445e-9bd7-acb683db4542"
      },
      "outputs": [
        {
          "data": {
            "text/html": [
              "<div>\n",
              "<style scoped>\n",
              "    .dataframe tbody tr th:only-of-type {\n",
              "        vertical-align: middle;\n",
              "    }\n",
              "\n",
              "    .dataframe tbody tr th {\n",
              "        vertical-align: top;\n",
              "    }\n",
              "\n",
              "    .dataframe thead th {\n",
              "        text-align: right;\n",
              "    }\n",
              "</style>\n",
              "<table border=\"1\" class=\"dataframe\">\n",
              "  <thead>\n",
              "    <tr style=\"text-align: right;\">\n",
              "      <th></th>\n",
              "      <th>word_freq_make</th>\n",
              "      <th>word_freq_address</th>\n",
              "      <th>word_freq_all</th>\n",
              "      <th>word_freq_3d</th>\n",
              "      <th>word_freq_our</th>\n",
              "      <th>word_freq_over</th>\n",
              "      <th>word_freq_remove</th>\n",
              "      <th>word_freq_internet</th>\n",
              "      <th>word_freq_order</th>\n",
              "      <th>word_freq_mail</th>\n",
              "      <th>...</th>\n",
              "      <th>word_freq_conference</th>\n",
              "      <th>char_freq_;</th>\n",
              "      <th>char_freq_(</th>\n",
              "      <th>char_freq_[</th>\n",
              "      <th>char_freq_!</th>\n",
              "      <th>char_freq_$</th>\n",
              "      <th>char_freq_#</th>\n",
              "      <th>capital_run_length_average</th>\n",
              "      <th>capital_run_length_longest</th>\n",
              "      <th>capital_run_length_total</th>\n",
              "    </tr>\n",
              "  </thead>\n",
              "  <tbody>\n",
              "    <tr>\n",
              "      <th>0</th>\n",
              "      <td>0.00</td>\n",
              "      <td>0.64</td>\n",
              "      <td>0.64</td>\n",
              "      <td>0.0</td>\n",
              "      <td>0.32</td>\n",
              "      <td>0.00</td>\n",
              "      <td>0.00</td>\n",
              "      <td>0.00</td>\n",
              "      <td>0.00</td>\n",
              "      <td>0.00</td>\n",
              "      <td>...</td>\n",
              "      <td>0.0</td>\n",
              "      <td>0.000</td>\n",
              "      <td>0.000</td>\n",
              "      <td>0.0</td>\n",
              "      <td>0.778</td>\n",
              "      <td>0.000</td>\n",
              "      <td>0.000</td>\n",
              "      <td>3.756</td>\n",
              "      <td>61</td>\n",
              "      <td>278</td>\n",
              "    </tr>\n",
              "    <tr>\n",
              "      <th>1</th>\n",
              "      <td>0.21</td>\n",
              "      <td>0.28</td>\n",
              "      <td>0.50</td>\n",
              "      <td>0.0</td>\n",
              "      <td>0.14</td>\n",
              "      <td>0.28</td>\n",
              "      <td>0.21</td>\n",
              "      <td>0.07</td>\n",
              "      <td>0.00</td>\n",
              "      <td>0.94</td>\n",
              "      <td>...</td>\n",
              "      <td>0.0</td>\n",
              "      <td>0.000</td>\n",
              "      <td>0.132</td>\n",
              "      <td>0.0</td>\n",
              "      <td>0.372</td>\n",
              "      <td>0.180</td>\n",
              "      <td>0.048</td>\n",
              "      <td>5.114</td>\n",
              "      <td>101</td>\n",
              "      <td>1028</td>\n",
              "    </tr>\n",
              "    <tr>\n",
              "      <th>2</th>\n",
              "      <td>0.06</td>\n",
              "      <td>0.00</td>\n",
              "      <td>0.71</td>\n",
              "      <td>0.0</td>\n",
              "      <td>1.23</td>\n",
              "      <td>0.19</td>\n",
              "      <td>0.19</td>\n",
              "      <td>0.12</td>\n",
              "      <td>0.64</td>\n",
              "      <td>0.25</td>\n",
              "      <td>...</td>\n",
              "      <td>0.0</td>\n",
              "      <td>0.010</td>\n",
              "      <td>0.143</td>\n",
              "      <td>0.0</td>\n",
              "      <td>0.276</td>\n",
              "      <td>0.184</td>\n",
              "      <td>0.010</td>\n",
              "      <td>9.821</td>\n",
              "      <td>485</td>\n",
              "      <td>2259</td>\n",
              "    </tr>\n",
              "    <tr>\n",
              "      <th>3</th>\n",
              "      <td>0.00</td>\n",
              "      <td>0.00</td>\n",
              "      <td>0.00</td>\n",
              "      <td>0.0</td>\n",
              "      <td>0.63</td>\n",
              "      <td>0.00</td>\n",
              "      <td>0.31</td>\n",
              "      <td>0.63</td>\n",
              "      <td>0.31</td>\n",
              "      <td>0.63</td>\n",
              "      <td>...</td>\n",
              "      <td>0.0</td>\n",
              "      <td>0.000</td>\n",
              "      <td>0.137</td>\n",
              "      <td>0.0</td>\n",
              "      <td>0.137</td>\n",
              "      <td>0.000</td>\n",
              "      <td>0.000</td>\n",
              "      <td>3.537</td>\n",
              "      <td>40</td>\n",
              "      <td>191</td>\n",
              "    </tr>\n",
              "    <tr>\n",
              "      <th>4</th>\n",
              "      <td>0.00</td>\n",
              "      <td>0.00</td>\n",
              "      <td>0.00</td>\n",
              "      <td>0.0</td>\n",
              "      <td>0.63</td>\n",
              "      <td>0.00</td>\n",
              "      <td>0.31</td>\n",
              "      <td>0.63</td>\n",
              "      <td>0.31</td>\n",
              "      <td>0.63</td>\n",
              "      <td>...</td>\n",
              "      <td>0.0</td>\n",
              "      <td>0.000</td>\n",
              "      <td>0.135</td>\n",
              "      <td>0.0</td>\n",
              "      <td>0.135</td>\n",
              "      <td>0.000</td>\n",
              "      <td>0.000</td>\n",
              "      <td>3.537</td>\n",
              "      <td>40</td>\n",
              "      <td>191</td>\n",
              "    </tr>\n",
              "    <tr>\n",
              "      <th>...</th>\n",
              "      <td>...</td>\n",
              "      <td>...</td>\n",
              "      <td>...</td>\n",
              "      <td>...</td>\n",
              "      <td>...</td>\n",
              "      <td>...</td>\n",
              "      <td>...</td>\n",
              "      <td>...</td>\n",
              "      <td>...</td>\n",
              "      <td>...</td>\n",
              "      <td>...</td>\n",
              "      <td>...</td>\n",
              "      <td>...</td>\n",
              "      <td>...</td>\n",
              "      <td>...</td>\n",
              "      <td>...</td>\n",
              "      <td>...</td>\n",
              "      <td>...</td>\n",
              "      <td>...</td>\n",
              "      <td>...</td>\n",
              "      <td>...</td>\n",
              "    </tr>\n",
              "    <tr>\n",
              "      <th>4596</th>\n",
              "      <td>0.31</td>\n",
              "      <td>0.00</td>\n",
              "      <td>0.62</td>\n",
              "      <td>0.0</td>\n",
              "      <td>0.00</td>\n",
              "      <td>0.31</td>\n",
              "      <td>0.00</td>\n",
              "      <td>0.00</td>\n",
              "      <td>0.00</td>\n",
              "      <td>0.00</td>\n",
              "      <td>...</td>\n",
              "      <td>0.0</td>\n",
              "      <td>0.000</td>\n",
              "      <td>0.232</td>\n",
              "      <td>0.0</td>\n",
              "      <td>0.000</td>\n",
              "      <td>0.000</td>\n",
              "      <td>0.000</td>\n",
              "      <td>1.142</td>\n",
              "      <td>3</td>\n",
              "      <td>88</td>\n",
              "    </tr>\n",
              "    <tr>\n",
              "      <th>4597</th>\n",
              "      <td>0.00</td>\n",
              "      <td>0.00</td>\n",
              "      <td>0.00</td>\n",
              "      <td>0.0</td>\n",
              "      <td>0.00</td>\n",
              "      <td>0.00</td>\n",
              "      <td>0.00</td>\n",
              "      <td>0.00</td>\n",
              "      <td>0.00</td>\n",
              "      <td>0.00</td>\n",
              "      <td>...</td>\n",
              "      <td>0.0</td>\n",
              "      <td>0.000</td>\n",
              "      <td>0.000</td>\n",
              "      <td>0.0</td>\n",
              "      <td>0.353</td>\n",
              "      <td>0.000</td>\n",
              "      <td>0.000</td>\n",
              "      <td>1.555</td>\n",
              "      <td>4</td>\n",
              "      <td>14</td>\n",
              "    </tr>\n",
              "    <tr>\n",
              "      <th>4598</th>\n",
              "      <td>0.30</td>\n",
              "      <td>0.00</td>\n",
              "      <td>0.30</td>\n",
              "      <td>0.0</td>\n",
              "      <td>0.00</td>\n",
              "      <td>0.00</td>\n",
              "      <td>0.00</td>\n",
              "      <td>0.00</td>\n",
              "      <td>0.00</td>\n",
              "      <td>0.00</td>\n",
              "      <td>...</td>\n",
              "      <td>0.0</td>\n",
              "      <td>0.102</td>\n",
              "      <td>0.718</td>\n",
              "      <td>0.0</td>\n",
              "      <td>0.000</td>\n",
              "      <td>0.000</td>\n",
              "      <td>0.000</td>\n",
              "      <td>1.404</td>\n",
              "      <td>6</td>\n",
              "      <td>118</td>\n",
              "    </tr>\n",
              "    <tr>\n",
              "      <th>4599</th>\n",
              "      <td>0.96</td>\n",
              "      <td>0.00</td>\n",
              "      <td>0.00</td>\n",
              "      <td>0.0</td>\n",
              "      <td>0.32</td>\n",
              "      <td>0.00</td>\n",
              "      <td>0.00</td>\n",
              "      <td>0.00</td>\n",
              "      <td>0.00</td>\n",
              "      <td>0.00</td>\n",
              "      <td>...</td>\n",
              "      <td>0.0</td>\n",
              "      <td>0.000</td>\n",
              "      <td>0.057</td>\n",
              "      <td>0.0</td>\n",
              "      <td>0.000</td>\n",
              "      <td>0.000</td>\n",
              "      <td>0.000</td>\n",
              "      <td>1.147</td>\n",
              "      <td>5</td>\n",
              "      <td>78</td>\n",
              "    </tr>\n",
              "    <tr>\n",
              "      <th>4600</th>\n",
              "      <td>0.00</td>\n",
              "      <td>0.00</td>\n",
              "      <td>0.65</td>\n",
              "      <td>0.0</td>\n",
              "      <td>0.00</td>\n",
              "      <td>0.00</td>\n",
              "      <td>0.00</td>\n",
              "      <td>0.00</td>\n",
              "      <td>0.00</td>\n",
              "      <td>0.00</td>\n",
              "      <td>...</td>\n",
              "      <td>0.0</td>\n",
              "      <td>0.000</td>\n",
              "      <td>0.000</td>\n",
              "      <td>0.0</td>\n",
              "      <td>0.125</td>\n",
              "      <td>0.000</td>\n",
              "      <td>0.000</td>\n",
              "      <td>1.250</td>\n",
              "      <td>5</td>\n",
              "      <td>40</td>\n",
              "    </tr>\n",
              "  </tbody>\n",
              "</table>\n",
              "<p>4601 rows × 57 columns</p>\n",
              "</div>"
            ],
            "text/plain": [
              "      word_freq_make  word_freq_address  word_freq_all  word_freq_3d  \\\n",
              "0               0.00               0.64           0.64           0.0   \n",
              "1               0.21               0.28           0.50           0.0   \n",
              "2               0.06               0.00           0.71           0.0   \n",
              "3               0.00               0.00           0.00           0.0   \n",
              "4               0.00               0.00           0.00           0.0   \n",
              "...              ...                ...            ...           ...   \n",
              "4596            0.31               0.00           0.62           0.0   \n",
              "4597            0.00               0.00           0.00           0.0   \n",
              "4598            0.30               0.00           0.30           0.0   \n",
              "4599            0.96               0.00           0.00           0.0   \n",
              "4600            0.00               0.00           0.65           0.0   \n",
              "\n",
              "      word_freq_our  word_freq_over  word_freq_remove  word_freq_internet  \\\n",
              "0              0.32            0.00              0.00                0.00   \n",
              "1              0.14            0.28              0.21                0.07   \n",
              "2              1.23            0.19              0.19                0.12   \n",
              "3              0.63            0.00              0.31                0.63   \n",
              "4              0.63            0.00              0.31                0.63   \n",
              "...             ...             ...               ...                 ...   \n",
              "4596           0.00            0.31              0.00                0.00   \n",
              "4597           0.00            0.00              0.00                0.00   \n",
              "4598           0.00            0.00              0.00                0.00   \n",
              "4599           0.32            0.00              0.00                0.00   \n",
              "4600           0.00            0.00              0.00                0.00   \n",
              "\n",
              "      word_freq_order  word_freq_mail  ...  word_freq_conference  char_freq_;  \\\n",
              "0                0.00            0.00  ...                   0.0        0.000   \n",
              "1                0.00            0.94  ...                   0.0        0.000   \n",
              "2                0.64            0.25  ...                   0.0        0.010   \n",
              "3                0.31            0.63  ...                   0.0        0.000   \n",
              "4                0.31            0.63  ...                   0.0        0.000   \n",
              "...               ...             ...  ...                   ...          ...   \n",
              "4596             0.00            0.00  ...                   0.0        0.000   \n",
              "4597             0.00            0.00  ...                   0.0        0.000   \n",
              "4598             0.00            0.00  ...                   0.0        0.102   \n",
              "4599             0.00            0.00  ...                   0.0        0.000   \n",
              "4600             0.00            0.00  ...                   0.0        0.000   \n",
              "\n",
              "      char_freq_(  char_freq_[  char_freq_!  char_freq_$  char_freq_#  \\\n",
              "0           0.000          0.0        0.778        0.000        0.000   \n",
              "1           0.132          0.0        0.372        0.180        0.048   \n",
              "2           0.143          0.0        0.276        0.184        0.010   \n",
              "3           0.137          0.0        0.137        0.000        0.000   \n",
              "4           0.135          0.0        0.135        0.000        0.000   \n",
              "...           ...          ...          ...          ...          ...   \n",
              "4596        0.232          0.0        0.000        0.000        0.000   \n",
              "4597        0.000          0.0        0.353        0.000        0.000   \n",
              "4598        0.718          0.0        0.000        0.000        0.000   \n",
              "4599        0.057          0.0        0.000        0.000        0.000   \n",
              "4600        0.000          0.0        0.125        0.000        0.000   \n",
              "\n",
              "      capital_run_length_average  capital_run_length_longest  \\\n",
              "0                          3.756                          61   \n",
              "1                          5.114                         101   \n",
              "2                          9.821                         485   \n",
              "3                          3.537                          40   \n",
              "4                          3.537                          40   \n",
              "...                          ...                         ...   \n",
              "4596                       1.142                           3   \n",
              "4597                       1.555                           4   \n",
              "4598                       1.404                           6   \n",
              "4599                       1.147                           5   \n",
              "4600                       1.250                           5   \n",
              "\n",
              "      capital_run_length_total  \n",
              "0                          278  \n",
              "1                         1028  \n",
              "2                         2259  \n",
              "3                          191  \n",
              "4                          191  \n",
              "...                        ...  \n",
              "4596                        88  \n",
              "4597                        14  \n",
              "4598                       118  \n",
              "4599                        78  \n",
              "4600                        40  \n",
              "\n",
              "[4601 rows x 57 columns]"
            ]
          },
          "execution_count": 8,
          "metadata": {},
          "output_type": "execute_result"
        }
      ],
      "source": [
        "X"
      ]
    },
    {
      "cell_type": "code",
      "execution_count": null,
      "metadata": {
        "id": "r_pfv-IVnqYh"
      },
      "outputs": [],
      "source": [
        "col = np.array(X.columns)"
      ]
    },
    {
      "cell_type": "code",
      "execution_count": null,
      "metadata": {
        "id": "qvPfjLVDnqYh"
      },
      "outputs": [],
      "source": [
        "_X_ = np.array(X)\n",
        "_y_ = np.reshape(np.array(y), (len(y), ))"
      ]
    },
    {
      "cell_type": "code",
      "execution_count": null,
      "metadata": {
        "id": "0tIpdjfMnqYh",
        "outputId": "7b2902cc-d963-49de-e636-23f60c7c61a1"
      },
      "outputs": [
        {
          "data": {
            "text/plain": [
              "array(['word_freq_will', 'capital_run_length_longest', 'char_freq_(',\n",
              "       'capital_run_length_total', 'word_freq_you',\n",
              "       'capital_run_length_average', 'word_freq_your'], dtype=object)"
            ]
          },
          "execution_count": 29,
          "metadata": {},
          "output_type": "execute_result"
        }
      ],
      "source": [
        "number_bins = 2\n",
        "p = np.shape(_X_)[1]\n",
        "N = np.shape(_X_)[0]\n",
        "set_number = 4300\n",
        "\n",
        "X_dim = number_bins\n",
        "Y_dim = 2\n",
        "\n",
        "dimensions = p * X_dim * (X_dim - 1) * (Y_dim - 1) + (1 - p) * (X_dim - 1) * (Y_dim - 1)\n",
        "\n",
        "\n",
        "quantile =  chi2.ppf(0.95, dimensions)\n",
        "\n",
        "ind_s = np.random.randint(0, N, size=set_number)\n",
        "\n",
        "bins = np.quantile(_X_, np.arange(0, 1, (1/number_bins)))\n",
        "X_b = np.digitize(_X_, bins)\n",
        "\n",
        "for i in range(0, p):\n",
        "    bins = np.quantile(_X_[:, i], np.arange(0, 1, (1/number_bins)))\n",
        "    X_b[:, i] = np.digitize(_X_[:, i], bins)\n",
        "\n",
        "\n",
        "\n",
        "X_b = (np.rint(X_b)).astype(int)\n",
        "_y_ = (np.rint(_y_)).astype(int)\n",
        "\n",
        "ind = Choice(X_b[ind_s, :], _y_[ind_s], quantile)\n",
        "col[ind]"
      ]
    },
    {
      "cell_type": "code",
      "execution_count": null,
      "metadata": {
        "id": "TgxcWNzVnqYi"
      },
      "outputs": [],
      "source": [
        "from sklearn.neighbors import KNeighborsClassifier"
      ]
    },
    {
      "cell_type": "code",
      "execution_count": null,
      "metadata": {
        "id": "q1tPZCmunqYi"
      },
      "outputs": [],
      "source": [
        "neigh = KNeighborsClassifier(n_neighbors=10)\n",
        "neigh.fit(X_b[ind_s, :][:, ind], _y_[ind_s])\n",
        "\n",
        "res = np.setdiff1d(np.arange(0, p, 1, dtype=int), ind_s)\n",
        "\n",
        "_y_predict = neigh.predict(X_b[res, :][:, ind])"
      ]
    },
    {
      "cell_type": "markdown",
      "source": [
        "# Точность прогноза классификации на выбранных значимых признаках."
      ],
      "metadata": {
        "id": "IU1bAeI75bd7"
      }
    },
    {
      "cell_type": "code",
      "execution_count": null,
      "metadata": {
        "id": "riBkhIe2nqYi",
        "outputId": "9bbeb94c-d901-4135-bb04-377cd32c222e"
      },
      "outputs": [
        {
          "name": "stdout",
          "output_type": "stream",
          "text": [
            "accuracy =  0.7272727272727273\n"
          ]
        }
      ],
      "source": [
        "\n",
        "print('accuracy = ', 1 - np.mean(np.fabs(_y_[res] - _y_predict)))"
      ]
    }
  ],
  "metadata": {
    "kernelspec": {
      "display_name": "Python 3",
      "language": "python",
      "name": "python3"
    },
    "language_info": {
      "codemirror_mode": {
        "name": "ipython",
        "version": 3
      },
      "file_extension": ".py",
      "mimetype": "text/x-python",
      "name": "python",
      "nbconvert_exporter": "python",
      "pygments_lexer": "ipython3",
      "version": "3.9.12"
    },
    "colab": {
      "provenance": []
    }
  },
  "nbformat": 4,
  "nbformat_minor": 0
}